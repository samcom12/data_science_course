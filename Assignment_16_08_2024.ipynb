{
  "nbformat": 4,
  "nbformat_minor": 0,
  "metadata": {
    "colab": {
      "provenance": [],
      "authorship_tag": "ABX9TyP+duGnclf0fZDae5mcz8gY",
      "include_colab_link": true
    },
    "kernelspec": {
      "name": "python3",
      "display_name": "Python 3"
    },
    "language_info": {
      "name": "python"
    }
  },
  "cells": [
    {
      "cell_type": "markdown",
      "metadata": {
        "id": "view-in-github",
        "colab_type": "text"
      },
      "source": [
        "<a href=\"https://colab.research.google.com/github/samcom12/data_science_course/blob/main/Assignment_16_08_2024.ipynb\" target=\"_parent\"><img src=\"https://colab.research.google.com/assets/colab-badge.svg\" alt=\"Open In Colab\"/></a>"
      ]
    },
    {
      "cell_type": "markdown",
      "source": [
        "**\n",
        "\n",
        "```\n",
        "# This is formatted as code\n",
        "**1. Write a program to read Celsius temperature and print equivalent Fahrenheit\n",
        "temperate on screen**"
      ],
      "metadata": {
        "id": "pgrXrFN2obUI"
      }
    },
    {
      "cell_type": "code",
      "execution_count": 3,
      "metadata": {
        "colab": {
          "base_uri": "https://localhost:8080/"
        },
        "id": "Wrs3GKWdlR85",
        "outputId": "73eace1e-5717-425a-9773-4f7ccabdb7eb"
      },
      "outputs": [
        {
          "output_type": "stream",
          "name": "stdout",
          "text": [
            "Enter temperature in Celsius: 20\n",
            "The equivalent temperature in Fahrenheit is: 68.0\n"
          ]
        }
      ],
      "source": [
        "def ftoc(celcius):\n",
        "  return  (celcius * 9/5) + 32\n",
        "\n",
        "celsius = float(input(\"Enter temperature in Celsius: \"))\n",
        "print(f\"The equivalent temperature in Fahrenheit is: {ftoc(celsius)}\")\n"
      ]
    },
    {
      "cell_type": "markdown",
      "source": [
        "**2. Read radius of the circle from user and find the area and perimeter of it.**"
      ],
      "metadata": {
        "id": "ndEYtkGWo-gP"
      }
    },
    {
      "cell_type": "code",
      "source": [
        "radius = float(input(\"enter radius of the circle:\"))\n",
        "import math as mt\n",
        "area =\n",
        "mt.pi * radius * radius\n",
        "perimeter = 2 * mt.pi * radius\n",
        "print(\"Area of circle is %f\", area)\n",
        "print(\"Perimeter of circle is %f\", perimeter)\n"
      ],
      "metadata": {
        "colab": {
          "base_uri": "https://localhost:8080/"
        },
        "id": "1vuLn3LPnciv",
        "outputId": "86ff2cf9-02c2-4f6d-9eeb-7314ed7ecf09"
      },
      "execution_count": 6,
      "outputs": [
        {
          "output_type": "stream",
          "name": "stdout",
          "text": [
            "enter radius of the circle:2\n",
            "Area of circle is %f 12.566370614359172\n",
            "Perimeter of circle is %f 12.566370614359172\n"
          ]
        }
      ]
    },
    {
      "cell_type": "markdown",
      "source": [],
      "metadata": {
        "id": "LEwKQdBLoZAP"
      }
    },
    {
      "cell_type": "markdown",
      "source": [
        "**3. Read the amount and percentage of interest from the keyboard and find final\n",
        "amount after adding interest in original amount**"
      ],
      "metadata": {
        "id": "ElmA7W4Jsxsv"
      }
    },
    {
      "cell_type": "code",
      "source": [
        "amount = int(input(\"Enter amount\"))\n",
        "percent = float (input(\"Enter Percentage\"))\n",
        "\n",
        "#final_amount= amount + ((amount/percent)*100)\n",
        "final_amount = amount+percent\n",
        "print(\"Final Amount\", final_amount)"
      ],
      "metadata": {
        "colab": {
          "base_uri": "https://localhost:8080/"
        },
        "id": "5pMdlMxhs6K4",
        "outputId": "09453721-aa04-4803-f7f0-18bf02cddf89"
      },
      "execution_count": 11,
      "outputs": [
        {
          "output_type": "stream",
          "name": "stdout",
          "text": [
            "Enter amount100\n",
            "Enter Percentage10\n",
            "Final Amount 110.0\n"
          ]
        }
      ]
    },
    {
      "cell_type": "markdown",
      "source": [
        "**4. Write a program to read distance value in meters and convert it into centimeters, inches, and yards.**"
      ],
      "metadata": {
        "id": "UEpgJY7gv_8n"
      }
    },
    {
      "cell_type": "code",
      "source": [
        "meteres = float (input(\"enter distance value in meteres\"))\n",
        "cm=meteres * 1000\n",
        "yard= meteres * 1.0936\n",
        "inches = meteres * 39.26\n",
        "\n",
        "print(\"Metres Equals entimeters, yards, and %f inches\", cm, yard, inches)\n"
      ],
      "metadata": {
        "colab": {
          "base_uri": "https://localhost:8080/"
        },
        "id": "hiK38zWxtW3v",
        "outputId": "08757e81-29da-4d7f-c72b-d120dd22985c"
      },
      "execution_count": 15,
      "outputs": [
        {
          "output_type": "stream",
          "name": "stdout",
          "text": [
            "enter distance value in meteres10\n",
            "Metres Equals entimeters, %f yards, and %f inches 10000.0 10.936 392.59999999999997\n"
          ]
        }
      ]
    },
    {
      "cell_type": "markdown",
      "source": [
        "**5. Write a Python program to calculate profit or loss. Input is selling cost and actual\n",
        "cost of a product.**"
      ],
      "metadata": {
        "id": "16mHaO1vygAf"
      }
    },
    {
      "cell_type": "code",
      "source": [
        "selling_cost = float(input(\"Enter Selling cost\"))\n",
        "actual_cost = float(input(\"Enter actual cost\"))\n",
        "if(selling_cost > actual_cost):\n",
        "  print(\"Profit of \", selling_cost-actual_cost)\n",
        "elif(selling_cost == actual_cost):\n",
        "  print(\"No loss, No gain\")\n",
        "else:\n",
        "  print(\"Loss of \", actual_cost-selling_cost)\n",
        "\n",
        "\n",
        "\n"
      ],
      "metadata": {
        "colab": {
          "base_uri": "https://localhost:8080/"
        },
        "id": "eKzdzjNUxqaA",
        "outputId": "5cfb4246-d93a-406f-ec5a-788519fc590a"
      },
      "execution_count": 20,
      "outputs": [
        {
          "output_type": "stream",
          "name": "stdout",
          "text": [
            "Enter Selling cost10\n",
            "Enter actual cost100\n",
            "Loss of  90.0\n"
          ]
        }
      ]
    },
    {
      "cell_type": "markdown",
      "source": [
        " **6. Write a program to input basic salary and find output of gross salary using\n",
        "following:\n",
        "DA = 75% of basic\n",
        "HRA = 20% of basic\n",
        "Conditions:\n",
        "Basic < 10000 : gross = da + basic\n",
        "Basic >= 10000 and < 20000 : gross = da + basic + 50% of hra\n",
        "Basic >= 20000 : gross = basic + da + hra**\n",
        "\n"
      ],
      "metadata": {
        "id": "oy1CTjgy1uGQ"
      }
    },
    {
      "cell_type": "code",
      "source": [
        "# Function to calculate gross salary\n",
        "def calculate_gross_salary(basic_salary):\n",
        "    # Calculate DA and HRA\n",
        "    da = 0.75 * basic_salary\n",
        "    hra = 0.20 * basic_salary\n",
        "\n",
        "    # Determine the gross salary based on the basic salary\n",
        "    if basic_salary < 10000:\n",
        "        gross_salary = da + basic_salary\n",
        "    elif 10000 <= basic_salary < 20000:\n",
        "        gross_salary = da + basic_salary + 0.50 * hra\n",
        "    else:  # basic_salary >= 20000\n",
        "        gross_salary = basic_salary + da + hra\n",
        "\n",
        "    return gross_salary\n",
        "\n",
        "# Main program\n",
        "def main():\n",
        "    # Read basic salary from the user\n",
        "    try:\n",
        "        basic_salary = float(input(\"Enter the basic salary: \"))\n",
        "\n",
        "        # Calculate gross salary\n",
        "        gross_salary = calculate_gross_salary(basic_salary)\n",
        "\n",
        "        # Print the result\n",
        "        print(f\"The gross salary is: {gross_salary:.2f}\")\n",
        "    except ValueError:\n",
        "        print(\"Please enter a valid number.\")\n",
        "\n",
        "if __name__ == \"__main__\":\n",
        "    main()\n"
      ],
      "metadata": {
        "colab": {
          "base_uri": "https://localhost:8080/"
        },
        "id": "_dpME_Ed2Ddp",
        "outputId": "f41ec718-5ccc-4d66-c06e-d622dca56e82"
      },
      "execution_count": 21,
      "outputs": [
        {
          "output_type": "stream",
          "name": "stdout",
          "text": [
            "Enter the basic salary: 1000\n",
            "The gross salary is: 1750.00\n"
          ]
        }
      ]
    },
    {
      "cell_type": "markdown",
      "source": [
        "**7. Write a program to read a number from user and find the factorial of the number.**"
      ],
      "metadata": {
        "id": "fkynWM8C2QSN"
      }
    },
    {
      "cell_type": "code",
      "source": [
        "num=int(input(\"Enter number\"))\n",
        "import math as mt\n",
        "print(\"Factorial is\", mt.factorial(num))"
      ],
      "metadata": {
        "colab": {
          "base_uri": "https://localhost:8080/"
        },
        "id": "NpA401mZ2Lou",
        "outputId": "418176ea-eff2-447e-b6a3-927f7bc5fe84"
      },
      "execution_count": 25,
      "outputs": [
        {
          "output_type": "stream",
          "name": "stdout",
          "text": [
            "Enter number4\n",
            "Factorial is 24\n"
          ]
        }
      ]
    },
    {
      "cell_type": "markdown",
      "source": [
        "**8. Write a program to read num1 and num2 from keyboard and find addition of all\n",
        "number between that range.**"
      ],
      "metadata": {
        "id": "X898764k3Who"
      }
    },
    {
      "cell_type": "code",
      "source": [
        "num1= int(input(\"Enter Num1:\"))\n",
        "num2= int(input(\"Enter Num2:\"))\n",
        "sum=0\n",
        "if(num1<=num2):\n",
        "  for i in range(num1,num2,1):\n",
        "    sum+=i\n",
        "else:\n",
        "  for i in range(num2,num1,1):\n",
        "    sum+=i\n",
        "\n",
        "print(\"Sum is\", sum)\n",
        "\n"
      ],
      "metadata": {
        "colab": {
          "base_uri": "https://localhost:8080/",
          "height": 383
        },
        "id": "DtQluU3X2qnq",
        "outputId": "cfcc30e2-5c3c-48e8-a519-487dc4b19e65"
      },
      "execution_count": 2,
      "outputs": [
        {
          "output_type": "error",
          "ename": "KeyboardInterrupt",
          "evalue": "Interrupted by user",
          "traceback": [
            "\u001b[0;31m---------------------------------------------------------------------------\u001b[0m",
            "\u001b[0;31mKeyboardInterrupt\u001b[0m                         Traceback (most recent call last)",
            "\u001b[0;32m<ipython-input-2-238654ffa737>\u001b[0m in \u001b[0;36m<cell line: 1>\u001b[0;34m()\u001b[0m\n\u001b[0;32m----> 1\u001b[0;31m \u001b[0mnum1\u001b[0m\u001b[0;34m=\u001b[0m \u001b[0mint\u001b[0m\u001b[0;34m(\u001b[0m\u001b[0minput\u001b[0m\u001b[0;34m(\u001b[0m\u001b[0;34m\"Enter Num1:\"\u001b[0m\u001b[0;34m)\u001b[0m\u001b[0;34m)\u001b[0m\u001b[0;34m\u001b[0m\u001b[0;34m\u001b[0m\u001b[0m\n\u001b[0m\u001b[1;32m      2\u001b[0m \u001b[0mnum2\u001b[0m\u001b[0;34m=\u001b[0m \u001b[0mint\u001b[0m\u001b[0;34m(\u001b[0m\u001b[0minput\u001b[0m\u001b[0;34m(\u001b[0m\u001b[0;34m\"Enter Num2:\"\u001b[0m\u001b[0;34m)\u001b[0m\u001b[0;34m)\u001b[0m\u001b[0;34m\u001b[0m\u001b[0;34m\u001b[0m\u001b[0m\n\u001b[1;32m      3\u001b[0m \u001b[0msum\u001b[0m\u001b[0;34m=\u001b[0m\u001b[0;36m0\u001b[0m\u001b[0;34m\u001b[0m\u001b[0;34m\u001b[0m\u001b[0m\n\u001b[1;32m      4\u001b[0m \u001b[0;32mif\u001b[0m\u001b[0;34m(\u001b[0m\u001b[0mnum1\u001b[0m\u001b[0;34m<=\u001b[0m\u001b[0mnum2\u001b[0m\u001b[0;34m)\u001b[0m\u001b[0;34m:\u001b[0m\u001b[0;34m\u001b[0m\u001b[0;34m\u001b[0m\u001b[0m\n\u001b[1;32m      5\u001b[0m   \u001b[0;32mfor\u001b[0m \u001b[0mi\u001b[0m \u001b[0;32min\u001b[0m \u001b[0mrange\u001b[0m\u001b[0;34m(\u001b[0m\u001b[0mnum1\u001b[0m\u001b[0;34m,\u001b[0m\u001b[0mnum2\u001b[0m\u001b[0;34m,\u001b[0m\u001b[0;36m1\u001b[0m\u001b[0;34m)\u001b[0m\u001b[0;34m:\u001b[0m\u001b[0;34m\u001b[0m\u001b[0;34m\u001b[0m\u001b[0m\n",
            "\u001b[0;32m/usr/local/lib/python3.10/dist-packages/ipykernel/kernelbase.py\u001b[0m in \u001b[0;36mraw_input\u001b[0;34m(self, prompt)\u001b[0m\n\u001b[1;32m    849\u001b[0m                 \u001b[0;34m\"raw_input was called, but this frontend does not support input requests.\"\u001b[0m\u001b[0;34m\u001b[0m\u001b[0;34m\u001b[0m\u001b[0m\n\u001b[1;32m    850\u001b[0m             )\n\u001b[0;32m--> 851\u001b[0;31m         return self._input_request(str(prompt),\n\u001b[0m\u001b[1;32m    852\u001b[0m             \u001b[0mself\u001b[0m\u001b[0;34m.\u001b[0m\u001b[0m_parent_ident\u001b[0m\u001b[0;34m,\u001b[0m\u001b[0;34m\u001b[0m\u001b[0;34m\u001b[0m\u001b[0m\n\u001b[1;32m    853\u001b[0m             \u001b[0mself\u001b[0m\u001b[0;34m.\u001b[0m\u001b[0m_parent_header\u001b[0m\u001b[0;34m,\u001b[0m\u001b[0;34m\u001b[0m\u001b[0;34m\u001b[0m\u001b[0m\n",
            "\u001b[0;32m/usr/local/lib/python3.10/dist-packages/ipykernel/kernelbase.py\u001b[0m in \u001b[0;36m_input_request\u001b[0;34m(self, prompt, ident, parent, password)\u001b[0m\n\u001b[1;32m    893\u001b[0m             \u001b[0;32mexcept\u001b[0m \u001b[0mKeyboardInterrupt\u001b[0m\u001b[0;34m:\u001b[0m\u001b[0;34m\u001b[0m\u001b[0;34m\u001b[0m\u001b[0m\n\u001b[1;32m    894\u001b[0m                 \u001b[0;31m# re-raise KeyboardInterrupt, to truncate traceback\u001b[0m\u001b[0;34m\u001b[0m\u001b[0;34m\u001b[0m\u001b[0m\n\u001b[0;32m--> 895\u001b[0;31m                 \u001b[0;32mraise\u001b[0m \u001b[0mKeyboardInterrupt\u001b[0m\u001b[0;34m(\u001b[0m\u001b[0;34m\"Interrupted by user\"\u001b[0m\u001b[0;34m)\u001b[0m \u001b[0;32mfrom\u001b[0m \u001b[0;32mNone\u001b[0m\u001b[0;34m\u001b[0m\u001b[0;34m\u001b[0m\u001b[0m\n\u001b[0m\u001b[1;32m    896\u001b[0m             \u001b[0;32mexcept\u001b[0m \u001b[0mException\u001b[0m \u001b[0;32mas\u001b[0m \u001b[0me\u001b[0m\u001b[0;34m:\u001b[0m\u001b[0;34m\u001b[0m\u001b[0;34m\u001b[0m\u001b[0m\n\u001b[1;32m    897\u001b[0m                 \u001b[0mself\u001b[0m\u001b[0;34m.\u001b[0m\u001b[0mlog\u001b[0m\u001b[0;34m.\u001b[0m\u001b[0mwarning\u001b[0m\u001b[0;34m(\u001b[0m\u001b[0;34m\"Invalid Message:\"\u001b[0m\u001b[0;34m,\u001b[0m \u001b[0mexc_info\u001b[0m\u001b[0;34m=\u001b[0m\u001b[0;32mTrue\u001b[0m\u001b[0;34m)\u001b[0m\u001b[0;34m\u001b[0m\u001b[0;34m\u001b[0m\u001b[0m\n",
            "\u001b[0;31mKeyboardInterrupt\u001b[0m: Interrupted by user"
          ]
        }
      ]
    },
    {
      "cell_type": "markdown",
      "source": [
        "**9. See the tuple given: num = (56,2,35,41,43,48,32,56,71,55,68)\n",
        "Write a program to create two lists from it where first list contains only even\n",
        "numbers and second will contain only odd numbers.**"
      ],
      "metadata": {
        "id": "Na_wJIN-S4_j"
      }
    },
    {
      "cell_type": "code",
      "source": [
        "num = (56,2,35,41,43,48,32,56,71,55,68)\n",
        "num_even = []\n",
        "num_odd = []\n",
        "for x in num:\n",
        "  if(x%2==0):\n",
        "    num_even.append(x)\n",
        "  else:\n",
        "    num_odd.append(x)\n",
        "\n",
        "print(num_even)\n",
        "print(num_odd)"
      ],
      "metadata": {
        "colab": {
          "base_uri": "https://localhost:8080/"
        },
        "id": "Qnr0L96_S35N",
        "outputId": "706029e9-636e-40cd-fd0e-460c49ff86bd"
      },
      "execution_count": 10,
      "outputs": [
        {
          "output_type": "stream",
          "name": "stdout",
          "text": [
            "[56, 2, 48, 32, 56, 68]\n",
            "[35, 41, 43, 71, 55]\n"
          ]
        }
      ]
    },
    {
      "cell_type": "markdown",
      "source": [
        "**10.Write a program to read a number from user. Create and use a user defined function to check whether it is odd or even?**"
      ],
      "metadata": {
        "id": "17QvgJmUZyv2"
      }
    },
    {
      "cell_type": "code",
      "source": [
        "def oe(x):\n",
        "   if ((x%2)==0):\n",
        "      return \"Even\"\n",
        "   else:\n",
        "      return \"Odd\"\n",
        "num = int(input(\"Enter Number\"))\n",
        "#print(type(x))\n",
        "print(oe(x))\n"
      ],
      "metadata": {
        "colab": {
          "base_uri": "https://localhost:8080/"
        },
        "id": "yErpOcmfXHpo",
        "outputId": "d6a8bdf0-a37e-4e9c-d7ab-e891fea834bc"
      },
      "execution_count": 28,
      "outputs": [
        {
          "output_type": "stream",
          "name": "stdout",
          "text": [
            "Enter Number101\n",
            "<class 'int'>\n",
            "Even\n"
          ]
        }
      ]
    },
    {
      "cell_type": "markdown",
      "source": [
        "**11.Write a program to read a number from user and find the square root, sin, tan, log and factorial of this number using math module.**"
      ],
      "metadata": {
        "id": "JQkQfCPSe6dp"
      }
    },
    {
      "cell_type": "code",
      "source": [
        "import math as mt\n",
        "num = int(input(\"Enter Number\"))\n",
        "#print(\"Square Root=\", mt.sqrt(num))\n",
        "#print(\"Sin =\", mt.sin(num))\n",
        "#print(\"Tann =\", mt.tan(num))\n",
        "#print(\"Log =\", mt.log(num))\n",
        "#print(\"Factorial =\", mt.factorial(num))\n",
        "\n",
        "print(\n",
        "    f\"Square Root = {mt.sqrt(num):.2f}, \"\n",
        "    f\"Sin = {mt.sin(num):.2f}, \"\n",
        "    f\"Tan = {mt.tan(num):.2f}, \"\n",
        "    f\"Log = {mt.log(num):.2f}, \"\n",
        "    f\"Factorial = {mt.factorial(int(num))}\"\n",
        ")"
      ],
      "metadata": {
        "colab": {
          "base_uri": "https://localhost:8080/"
        },
        "id": "knKNu2W3fA6O",
        "outputId": "929e3d4c-4742-4d5d-d057-d4eefb96ea9e"
      },
      "execution_count": 39,
      "outputs": [
        {
          "output_type": "stream",
          "name": "stdout",
          "text": [
            "Enter Number4\n",
            "Square Root = 2.00, Sin = -0.76, Tan = 1.16, Log = 1.39, Factorial = 24\n"
          ]
        }
      ]
    },
    {
      "cell_type": "code",
      "source": [],
      "metadata": {
        "id": "z3IubKZ9fi2p"
      },
      "execution_count": null,
      "outputs": []
    },
    {
      "cell_type": "markdown",
      "source": [
        "**12.Write a Python class named ‘Rectangle’ with two attributes length and width and a method named ‘calculate’ which will compute the area of a rectangle. Create an object to pass length and width and call the method to calculate the area of rectangle.**"
      ],
      "metadata": {
        "id": "gAzQgC-nikTJ"
      }
    },
    {
      "cell_type": "code",
      "source": [
        "class Rectangle:\n",
        "    def __init__(self, length, width):\n",
        "        \"\"\"Initialize the attributes of the Rectangle.\"\"\"\n",
        "        self.length = length\n",
        "        self.width = width\n",
        "\n",
        "    def calculate(self):\n",
        "        \"\"\"Calculate and return the area of the rectangle.\"\"\"\n",
        "        return self.length * self.width\n",
        "\n",
        "# Create an object of Rectangle\n",
        "length = float(input(\"Enter the length of the rectangle: \"))\n",
        "width = float(input(\"Enter the width of the rectangle: \"))\n",
        "\n",
        "rectangle = Rectangle(length, width)\n",
        "\n",
        "# Call the method to calculate the area\n",
        "area = rectangle.calculate()\n",
        "\n",
        "print(f\"The area of the rectangle is: {area:.2f}\")\n",
        "\n",
        ""
      ],
      "metadata": {
        "colab": {
          "base_uri": "https://localhost:8080/"
        },
        "id": "s2kD8tXUir9W",
        "outputId": "f1e53739-f94f-4d25-b657-0a610f2eceb7"
      },
      "execution_count": 40,
      "outputs": [
        {
          "output_type": "stream",
          "name": "stdout",
          "text": [
            "Enter the length of the rectangle: 2\n",
            "Enter the width of the rectangle: 15\n",
            "The area of the rectangle is: 30.00\n"
          ]
        }
      ]
    },
    {
      "cell_type": "code",
      "source": [],
      "metadata": {
        "id": "zOAdFQ7zjV4S"
      },
      "execution_count": null,
      "outputs": []
    }
  ]
}